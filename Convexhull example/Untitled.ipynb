{
 "cells": [
  {
   "cell_type": "code",
   "execution_count": 25,
   "metadata": {},
   "outputs": [],
   "source": [
    "import numpy as np\n",
    "import math\n",
    "import random as rnd\n",
    "import matplotlib.pyplot as plt"
   ]
  },
  {
   "cell_type": "code",
   "execution_count": 26,
   "metadata": {},
   "outputs": [],
   "source": [
    "def ClosestPair(P,Q):\n",
    "        \n",
    "    if len(P) <= 3:\n",
    "        bruteSearch(P,Q)\n",
    "        return bruteSearch(P,Q)\n",
    "        \n",
    "    else:\n",
    "        temp = int(len(P)/2)\n",
    "        \n",
    "        Pl = P[0: temp] # slicing by half\n",
    "        Ql = Q[0: temp] # size of Pi = Qi\n",
    "        Pr = P[temp:]\n",
    "        Qr = Q[temp:]\n",
    "        \n",
    "        #recurrsive formula\n",
    "        dl = ClosestPair(Pl,Ql)\n",
    "        dl = float(dl)\n",
    "        dr = ClosestPair(Pr,Qr)\n",
    "        dr = float(dr)\n",
    "        d = min(dl,dr)\n",
    "        m = P[temp-1]\n",
    "        S = []\n",
    "        for i in range(len(P)):\n",
    "            if abs(P[i]-m) <= d:\n",
    "                S.append(Q[i])\n",
    "            \n",
    "        dminsq = d**2\n",
    "        \n",
    "        for i in range(0,len(S)-2):\n",
    "            k = i + 1\n",
    "            while k <= (len(S)-1) and (S[k]-S[i])**2 < dminsq:\n",
    "                dminsq = min(((P[k]-P[i])**2 + (S[k]-S[i])**2) , dminsq)\n",
    "                k = k + 1\n",
    "                \n",
    "        return math.sqrt(dminsq)\n",
    "    "
   ]
  },
  {
   "cell_type": "code",
   "execution_count": 27,
   "metadata": {},
   "outputs": [],
   "source": [
    "def bruteSearch(P,Q):\n",
    "    \n",
    "    #compare every point by brute furce\n",
    "    minsqlist = []\n",
    "    \n",
    "    #add every point distance in list\n",
    "    for i in range(len(P)-1):\n",
    "        for k in range(i,len(P)-1):\n",
    "            dsqr = ((P[k+1]-P[i])**2)+((Q[k+1]-Q[i])**2)  \n",
    "            minsqlist.append(dsqr)\n",
    "            \n",
    "    #sort it using bruteforce listing, and find its min\n",
    "    minsqlist.sort()\n",
    "    minsq = minsqlist[0]\n",
    "    ret = float(math.sqrt(minsq))\n",
    "\n",
    "    return ret\n",
    "\n",
    "    "
   ]
  },
  {
   "cell_type": "code",
   "execution_count": 34,
   "metadata": {},
   "outputs": [],
   "source": [
    "numPnt = 3000\n",
    "\n",
    "\n",
    "Pnt = np.random.random((numPnt,2))\n",
    "# P는 x좌표의 오름차순 정렬\n",
    "Pi = np.sort(Pnt[:,0]) \n",
    "# Q는 y좌표의 오름차순 정렬\n",
    "Qi = np.sort(Pnt[:,1])"
   ]
  },
  {
   "cell_type": "code",
   "execution_count": 35,
   "metadata": {},
   "outputs": [
    {
     "data": {
      "text/plain": [
       "array([8.21917407e-04, 8.95020035e-04, 1.15433902e-03, ...,\n",
       "       9.99043247e-01, 9.99571220e-01, 9.99581120e-01])"
      ]
     },
     "execution_count": 35,
     "metadata": {},
     "output_type": "execute_result"
    }
   ],
   "source": [
    "Qi"
   ]
  },
  {
   "cell_type": "code",
   "execution_count": 36,
   "metadata": {},
   "outputs": [
    {
     "data": {
      "text/plain": [
       "4.975274393190261e-06"
      ]
     },
     "execution_count": 36,
     "metadata": {},
     "output_type": "execute_result"
    }
   ],
   "source": [
    "bruteSearch(Pi,Qi)"
   ]
  },
  {
   "cell_type": "code",
   "execution_count": 37,
   "metadata": {
    "scrolled": true
   },
   "outputs": [
    {
     "data": {
      "text/plain": [
       "4.975274393190261e-06"
      ]
     },
     "execution_count": 37,
     "metadata": {},
     "output_type": "execute_result"
    }
   ],
   "source": [
    "ClosestPair(Pi,Qi)"
   ]
  },
  {
   "cell_type": "code",
   "execution_count": 38,
   "metadata": {},
   "outputs": [],
   "source": [
    "br_times = []\n",
    "dc_times = []"
   ]
  },
  {
   "cell_type": "code",
   "execution_count": 43,
   "metadata": {},
   "outputs": [
    {
     "name": "stdout",
     "output_type": "stream",
     "text": [
      " time consumption:  0.02635499999996682\n"
     ]
    },
    {
     "name": "stderr",
     "output_type": "stream",
     "text": [
      "C:\\Users\\jinde\\AppData\\Local\\Continuum\\anaconda3\\lib\\site-packages\\ipykernel_launcher.py:3: DeprecationWarning: time.clock has been deprecated in Python 3.3 and will be removed from Python 3.8: use time.perf_counter or time.process_time instead\n",
      "  This is separate from the ipykernel package so we can avoid doing imports until\n",
      "C:\\Users\\jinde\\AppData\\Local\\Continuum\\anaconda3\\lib\\site-packages\\ipykernel_launcher.py:6: DeprecationWarning: time.clock has been deprecated in Python 3.3 and will be removed from Python 3.8: use time.perf_counter or time.process_time instead\n",
      "  \n"
     ]
    }
   ],
   "source": [
    "import time\n",
    "\n",
    "start = time.clock() \n",
    "ClosestPair(Pi,Qi)\n",
    "#bruteSearch(Pi,Qi)\n",
    "end = time.clock() \n",
    "\n",
    "\n",
    "print(\" time consumption: \", end-start) \n",
    "\n",
    "br_times.append(end-start) "
   ]
  },
  {
   "cell_type": "code",
   "execution_count": 20,
   "metadata": {},
   "outputs": [
    {
     "data": {
      "text/plain": [
       "[0.008510999999998603,\n",
       " 0.04365419999902952,\n",
       " 0.0952870000022813,\n",
       " 0.141619999996619,\n",
       " 0.21370000081602]"
      ]
     },
     "execution_count": 20,
     "metadata": {},
     "output_type": "execute_result"
    }
   ],
   "source": [
    "dc_times"
   ]
  },
  {
   "cell_type": "code",
   "execution_count": 21,
   "metadata": {},
   "outputs": [
    {
     "data": {
      "text/plain": [
       "[0.8087629000001471,\n",
       " 7.824645299999247,\n",
       " 22.379767500002345,\n",
       " 44.82082860000082,\n",
       " 74.72731919999933]"
      ]
     },
     "execution_count": 21,
     "metadata": {},
     "output_type": "execute_result"
    }
   ],
   "source": [
    "br_times"
   ]
  },
  {
   "cell_type": "code",
   "execution_count": 16,
   "metadata": {},
   "outputs": [
    {
     "name": "stdout",
     "output_type": "stream",
     "text": [
      "[-0.04056679494731626, -0.13670119697006555, -0.22400657681636432, -0.27681156580387256, -0.32977801877285584]\n",
      "[0.8993124596046399, 2.7972567454560275, 4.730725895674188, 6.6948359651302, 8.644496468852267]\n"
     ]
    }
   ],
   "source": [
    "dc_times = [0.008510999999998603,\n",
    " 0.043654199999029515,\n",
    " 0.0952870000022813,\n",
    " 0.141619999996619,\n",
    " 0.21370000081602]\n",
    "dc_times2 = []\n",
    "for i in dc_times:\n",
    "    dc_times2.append(i*math.log(i))\n",
    "print(dc_times2)\n",
    "\n",
    "br_times = [0.8087629000001471,\n",
    " 7.824645299999247,\n",
    " 22.379767500002345,\n",
    " 44.82082860000082,\n",
    " 74.72731919999933]\n",
    "br_times2 = []\n",
    "for i in br_times:\n",
    "    br_times2.append(i**0.5)\n",
    "print(br_times2)"
   ]
  },
  {
   "cell_type": "code",
   "execution_count": 22,
   "metadata": {},
   "outputs": [
    {
     "name": "stdout",
     "output_type": "stream",
     "text": [
      "[6907.755278982137, 24019.10270295074, 42585.96595708119, 61975.657996262154, 81944.8187068652]\n",
      "[1000000, 9000000, 25000000, 49000000, 81000000]\n"
     ]
    }
   ],
   "source": [
    "NumofPoint =[1000,3000,5000,7000,9000]\n",
    "NumofPoint2 = []\n",
    "NumofPoint3 = []\n",
    "\n",
    "for i in NumofPoint:\n",
    "    NumofPoint2.append(i*math.log(i))\n",
    "print(NumofPoint2)\n",
    "for i in NumofPoint:\n",
    "    NumofPoint3.append(i**2)\n",
    "print(NumofPoint3)"
   ]
  },
  {
   "cell_type": "code",
   "execution_count": 19,
   "metadata": {},
   "outputs": [
    {
     "name": "stderr",
     "output_type": "stream",
     "text": [
      "C:\\Users\\jinde\\AppData\\Local\\Continuum\\anaconda3\\lib\\site-packages\\ipykernel_launcher.py:5: MatplotlibDeprecationWarning: Adding an axes using the same arguments as a previous axes currently reuses the earlier instance.  In a future version, a new instance will always be created and returned.  Meanwhile, this warning can be suppressed, and the future behavior ensured, by passing a unique label to each axes instance.\n",
      "  \"\"\"\n"
     ]
    },
    {
     "data": {
      "image/png": "[encoded data removed]",
      "text/plain": [
       "<Figure size 432x288 with 1 Axes>"
      ]
     },
     "metadata": {
      "needs_background": "light"
     },
     "output_type": "display_data"
    }
   ],
   "source": [
    "plt.plot(NumofPoint, dc_times)\n",
    "plt.plot(NumofPoint, br_times)\n",
    "plt.legend([ 'Dv'])\n",
    "\n",
    "ax = plt.subplot()\n",
    "\n",
    "\n",
    "\n",
    "plt.xlabel('total number of point')\n",
    "plt.ylabel('time consumption(sec)')\n",
    "plt.show()\n",
    "\n"
   ]
  },
  {
   "cell_type": "code",
   "execution_count": 490,
   "metadata": {},
   "outputs": [
    {
     "name": "stderr",
     "output_type": "stream",
     "text": [
      "C:\\Users\\jinde\\AppData\\Local\\Continuum\\anaconda3\\lib\\site-packages\\ipykernel_launcher.py:5: MatplotlibDeprecationWarning: Adding an axes using the same arguments as a previous axes currently reuses the earlier instance.  In a future version, a new instance will always be created and returned.  Meanwhile, this warning can be suppressed, and the future behavior ensured, by passing a unique label to each axes instance.\n",
      "  \"\"\"\n"
     ]
    },
    {
     "data": {
      "image/png": "[encoded data removed]",
      "text/plain": [
       "<Figure size 432x288 with 1 Axes>"
      ]
     },
     "metadata": {
      "needs_background": "light"
     },
     "output_type": "display_data"
    }
   ],
   "source": [
    "plt.plot(NumofPoint, br_times)\n",
    "\n",
    "plt.legend(['Brute force'])\n",
    "\n",
    "ax = plt.subplot()\n",
    "\n",
    "\n",
    "plt.xlabel('total number of point')\n",
    "plt.ylabel('time consumption(sec)')\n",
    "plt.show()\n",
    "\n"
   ]
  },
  {
   "cell_type": "code",
   "execution_count": 23,
   "metadata": {},
   "outputs": [
    {
     "name": "stderr",
     "output_type": "stream",
     "text": [
      "C:\\Users\\jinde\\AppData\\Local\\Continuum\\anaconda3\\lib\\site-packages\\ipykernel_launcher.py:5: MatplotlibDeprecationWarning: Adding an axes using the same arguments as a previous axes currently reuses the earlier instance.  In a future version, a new instance will always be created and returned.  Meanwhile, this warning can be suppressed, and the future behavior ensured, by passing a unique label to each axes instance.\n",
      "  \"\"\"\n"
     ]
    },
    {
     "data": {
      "image/png": "[encoded data removed]",
      "text/plain": [
       "<Figure size 432x288 with 1 Axes>"
      ]
     },
     "metadata": {
      "needs_background": "light"
     },
     "output_type": "display_data"
    }
   ],
   "source": [
    "plt.plot(NumofPoint2, dc_times)\n",
    "\n",
    "plt.legend(['Devide&Conquer'])\n",
    "\n",
    "ax = plt.subplot()\n",
    "\n",
    "\n",
    "plt.xlabel('nlogn')\n",
    "plt.ylabel('time consumption(sec)')\n",
    "plt.show()\n",
    "\n"
   ]
  },
  {
   "cell_type": "code",
   "execution_count": 28,
   "metadata": {},
   "outputs": [
    {
     "name": "stderr",
     "output_type": "stream",
     "text": [
      "C:\\Users\\jinde\\AppData\\Local\\Continuum\\anaconda3\\lib\\site-packages\\ipykernel_launcher.py:5: MatplotlibDeprecationWarning: Adding an axes using the same arguments as a previous axes currently reuses the earlier instance.  In a future version, a new instance will always be created and returned.  Meanwhile, this warning can be suppressed, and the future behavior ensured, by passing a unique label to each axes instance.\n",
      "  \"\"\"\n"
     ]
    },
    {
     "data": {
      "image/png": "[encoded data removed]",
      "text/plain": [
       "<Figure size 432x288 with 1 Axes>"
      ]
     },
     "metadata": {
      "needs_background": "light"
     },
     "output_type": "display_data"
    }
   ],
   "source": [
    "plt.plot(NumofPoint3, br_times)\n",
    "\n",
    "plt.legend(['Brute force'])\n",
    "\n",
    "ax = plt.subplot()\n",
    "\n",
    "\n",
    "plt.xlabel('n^2')\n",
    "plt.ylabel('time consumption(sec)')\n",
    "plt.show()\n"
   ]
  },
  {
   "cell_type": "code",
   "execution_count": 9,
   "metadata": {},
   "outputs": [],
   "source": [
    "import math\n",
    "import numpy as np\n",
    "r= [0,0]\n",
    "q= [10,0]\n",
    "p= [5,5]\n",
    "temp_sqr= (r[0] - p[0])**2 + (r[1] - p[1])**2 - ((q[0]/2 - r[0]/2)**2 + (q[1]/2 - r[1]/2)**2)\n",
    "temp = np.sqrt(temp_sqr)  #distance of p from q and p added together"
   ]
  },
  {
   "cell_type": "code",
   "execution_count": 10,
   "metadata": {},
   "outputs": [
    {
     "data": {
      "text/plain": [
       "5.0"
      ]
     },
     "execution_count": 10,
     "metadata": {},
     "output_type": "execute_result"
    }
   ],
   "source": [
    "temp\n"
   ]
  },
  {
   "cell_type": "code",
   "execution_count": null,
   "metadata": {},
   "outputs": [],
   "source": []
  },
  {
   "cell_type": "code",
   "execution_count": null,
   "metadata": {},
   "outputs": [],
   "source": []
  }
 ],
 "metadata": {
  "kernelspec": {
   "display_name": "Python 3",
   "language": "python",
   "name": "python3"
  },
  "language_info": {
   "codemirror_mode": {
    "name": "ipython",
    "version": 3
   },
   "file_extension": ".py",
   "mimetype": "text/x-python",
   "name": "python",
   "nbconvert_exporter": "python",
   "pygments_lexer": "ipython3",
   "version": "3.7.4"
  }
 },
 "nbformat": 4,
 "nbformat_minor": 2
}
