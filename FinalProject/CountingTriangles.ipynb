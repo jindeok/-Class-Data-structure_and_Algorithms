{
 "cells": [
  {
   "cell_type": "code",
   "execution_count": 2,
   "metadata": {},
   "outputs": [],
   "source": [
    "import networkx as nx\n",
    "import numpy as np\n",
    "import copy"
   ]
  },
  {
   "cell_type": "markdown",
   "metadata": {},
   "source": [
    "# Finding number of tritangles in graph"
   ]
  },
  {
   "cell_type": "markdown",
   "metadata": {},
   "source": [
    "## initialize graph"
   ]
  },
  {
   "cell_type": "code",
   "execution_count": 3,
   "metadata": {},
   "outputs": [],
   "source": [
    "G = nx.triangular_lattice_graph(2,2)"
   ]
  },
  {
   "cell_type": "code",
   "execution_count": 6,
   "metadata": {},
   "outputs": [
    {
     "data": {
      "image/png": "[encoded data removed]",
      "text/plain": [
       "<Figure size 432x288 with 1 Axes>"
      ]
     },
     "metadata": {},
     "output_type": "display_data"
    }
   ],
   "source": [
    "nx.draw(G)"
   ]
  },
  {
   "cell_type": "code",
   "execution_count": 12,
   "metadata": {},
   "outputs": [],
   "source": [
    "A = nx.to_numpy_array(G)"
   ]
  },
  {
   "cell_type": "code",
   "execution_count": 13,
   "metadata": {},
   "outputs": [
    {
     "data": {
      "text/plain": [
       "array([[0., 1., 1., 0., 0., 0.],\n",
       "       [1., 0., 1., 1., 0., 0.],\n",
       "       [1., 1., 0., 1., 1., 1.],\n",
       "       [0., 1., 1., 0., 0., 1.],\n",
       "       [0., 0., 1., 0., 0., 1.],\n",
       "       [0., 0., 1., 1., 1., 0.]])"
      ]
     },
     "execution_count": 13,
     "metadata": {},
     "output_type": "execute_result"
    }
   ],
   "source": [
    "A"
   ]
  },
  {
   "cell_type": "code",
   "execution_count": 14,
   "metadata": {},
   "outputs": [
    {
     "name": "stdout",
     "output_type": "stream",
     "text": [
      "[[2. 5. 7. 3. 2. 4.]\n",
      " [5. 4. 8. 7. 4. 4.]\n",
      " [7. 8. 8. 9. 7. 8.]\n",
      " [3. 7. 9. 4. 3. 7.]\n",
      " [2. 4. 7. 3. 2. 5.]\n",
      " [4. 4. 8. 7. 5. 4.]]\n"
     ]
    }
   ],
   "source": [
    "B = np.dot(A,A)\n",
    "C = np.dot(A,B)\n",
    "print(C)"
   ]
  },
  {
   "cell_type": "markdown",
   "metadata": {},
   "source": [
    "## Stack class def"
   ]
  },
  {
   "cell_type": "code",
   "execution_count": 15,
   "metadata": {},
   "outputs": [],
   "source": [
    "class Stack(list):\n",
    "    push = list.append    # Push to Stack\n",
    "                          # Delete - 내장 pop method\n",
    "        \n",
    "    def is_empty(self):   # 데이터가 없는지 확인\n",
    "        if not self:\n",
    "            return True\n",
    "        else:\n",
    "            return False\n",
    "\n",
    "    def peek(self):        # 최상단 데이터 확인\n",
    "        return self[-1]\n",
    "    \n",
    "    def clear(self):\n",
    "        list.clear()\n",
    "    "
   ]
  },
  {
   "cell_type": "markdown",
   "metadata": {},
   "source": [
    "## 1. brute force search"
   ]
  },
  {
   "cell_type": "code",
   "execution_count": 16,
   "metadata": {},
   "outputs": [],
   "source": [
    "s = Stack()\n",
    "nodenum = len(A[0])"
   ]
  },
  {
   "cell_type": "code",
   "execution_count": 17,
   "metadata": {},
   "outputs": [],
   "source": [
    "tri_trace = []\n",
    "for i in range(nodenum):\n",
    "    s.push(i)\n",
    "    for j in range(nodenum):\n",
    "        if A[i][j] == 1:\n",
    "            s.push(j)\n",
    "            for k in range(nodenum):\n",
    "                if A[j][k] == 1:\n",
    "                    s.push(k)\n",
    "                    if A[k][i] == 1:\n",
    "                        #print(\"Stack is full:\", s)\n",
    "                        s_to_append = copy.deepcopy(s)\n",
    "                        tri_trace.append(s_to_append)                                       \n",
    "                    s.pop()\n",
    "            s.pop()\n",
    "    s.pop()       "
   ]
  },
  {
   "cell_type": "code",
   "execution_count": 28,
   "metadata": {},
   "outputs": [
    {
     "data": {
      "text/plain": [
       "[[0, 1, 2],\n",
       " [0, 2, 1],\n",
       " [1, 0, 2],\n",
       " [1, 2, 0],\n",
       " [1, 2, 3],\n",
       " [1, 3, 2],\n",
       " [2, 0, 1],\n",
       " [2, 1, 0],\n",
       " [2, 1, 3],\n",
       " [2, 3, 1],\n",
       " [2, 3, 5],\n",
       " [2, 4, 5],\n",
       " [2, 5, 3],\n",
       " [2, 5, 4],\n",
       " [3, 1, 2],\n",
       " [3, 2, 1],\n",
       " [3, 2, 5],\n",
       " [3, 5, 2],\n",
       " [4, 2, 5],\n",
       " [4, 5, 2],\n",
       " [5, 2, 3],\n",
       " [5, 2, 4],\n",
       " [5, 3, 2],\n",
       " [5, 4, 2]]"
      ]
     },
     "execution_count": 28,
     "metadata": {},
     "output_type": "execute_result"
    }
   ],
   "source": [
    "tri_trace"
   ]
  },
  {
   "cell_type": "code",
   "execution_count": 19,
   "metadata": {},
   "outputs": [
    {
     "data": {
      "text/plain": [
       "24"
      ]
     },
     "execution_count": 19,
     "metadata": {},
     "output_type": "execute_result"
    }
   ],
   "source": [
    "len(tri_trace)"
   ]
  },
  {
   "cell_type": "code",
   "execution_count": 50,
   "metadata": {},
   "outputs": [
    {
     "data": {
      "text/plain": [
       "4.0"
      ]
     },
     "execution_count": 50,
     "metadata": {},
     "output_type": "execute_result"
    }
   ],
   "source": [
    "len(tri_trace)/6"
   ]
  },
  {
   "cell_type": "code",
   "execution_count": null,
   "metadata": {},
   "outputs": [],
   "source": []
  }
 ],
 "metadata": {
  "kernelspec": {
   "display_name": "Python 3",
   "language": "python",
   "name": "python3"
  },
  "language_info": {
   "codemirror_mode": {
    "name": "ipython",
    "version": 3
   },
   "file_extension": ".py",
   "mimetype": "text/x-python",
   "name": "python",
   "nbconvert_exporter": "python",
   "pygments_lexer": "ipython3",
   "version": "3.7.4"
  }
 },
 "nbformat": 4,
 "nbformat_minor": 2
}
